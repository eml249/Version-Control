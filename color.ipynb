{
 "cells": [
  {
   "cell_type": "markdown",
   "id": "69ae15c0-e2e2-4a37-bc41-03bf6c6dab99",
   "metadata": {},
   "source": [
    "This is the version control lab"
   ]
  },
  {
   "cell_type": "code",
   "execution_count": 2,
   "id": "4c7b5fb6-3731-4a97-b6aa-bc2ac2c7a0b2",
   "metadata": {},
   "outputs": [
    {
     "name": "stdin",
     "output_type": "stream",
     "text": [
      "What is your name Erik\n"
     ]
    },
    {
     "name": "stdout",
     "output_type": "stream",
     "text": [
      "Hello, Erik\n"
     ]
    },
    {
     "name": "stdin",
     "output_type": "stream",
     "text": [
      "What is your favorite color? Blue\n"
     ]
    },
    {
     "name": "stdout",
     "output_type": "stream",
     "text": [
      "Your favorite color is Blue\n"
     ]
    }
   ],
   "source": [
    "yourname = input(\"What is your name\")\n",
    "print(\"Hello, \"+ yourname)\n",
    "color = input(\"What is your favorite color?\")\n",
    "print(\"Your favorite color is \"+ color)"
   ]
  },
  {
   "cell_type": "code",
   "execution_count": null,
   "id": "d620047a-86ae-4a10-b241-e992a3b32982",
   "metadata": {},
   "outputs": [],
   "source": []
  }
 ],
 "metadata": {
  "kernelspec": {
   "display_name": "Python 3 (ipykernel)",
   "language": "python",
   "name": "python3"
  },
  "language_info": {
   "codemirror_mode": {
    "name": "ipython",
    "version": 3
   },
   "file_extension": ".py",
   "mimetype": "text/x-python",
   "name": "python",
   "nbconvert_exporter": "python",
   "pygments_lexer": "ipython3",
   "version": "3.12.4"
  }
 },
 "nbformat": 4,
 "nbformat_minor": 5
}
